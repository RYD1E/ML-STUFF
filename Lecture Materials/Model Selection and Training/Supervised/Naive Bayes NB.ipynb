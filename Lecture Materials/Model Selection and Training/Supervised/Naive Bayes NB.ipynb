{
 "cells": [
  {
   "cell_type": "markdown",
   "id": "044a21dc",
   "metadata": {},
   "source": [
    "# Naive Bayes (NB) for Spam Filtering\n",
    "\n",
    "This tutorial introduces the Naive Bayes (NB) algorithm and demonstrates its application in spam filtering. Naive Bayes is a probabilistic classification algorithm widely used for tasks like text classification. In the context of spam filtering, Naive Bayes calculates the probability that an email is spam or not spam based on the words it contains."
   ]
  },
  {
   "cell_type": "markdown",
   "id": "653852d5",
   "metadata": {},
   "source": [
    "### Naive Bayes (NB) Overview:\n",
    "\n",
    "1. **Basic Idea**:\n",
    "\n",
    "   - Naive Bayes is a **probabilistic** algorithm based on Bayes' theorem with the \"naive\" assumption of feature independence.\n",
    "   - It predicts the class of a given data point by calculating the conditional probabilities of each class given the input features and selecting the class with the highest probability.\n",
    "\n",
    "2. **How it Works**:\n",
    "\n",
    "   - **Step 1**: Calculate the prior probability of each class (P(C)).\n",
    "   - **Step 2**: For each feature, calculate the likelihood of that feature given each class (P(F|C)).\n",
    "   - **Step 3**: Use Bayes' theorem to calculate the posterior probability of each class given the features (P(C|F)).\n",
    "   - **Step 4**: Select the class with the highest posterior probability as the predicted class.\n",
    "\n",
    "3. **Parameters**:\n",
    "\n",
    "   - Naive Bayes doesn't have many hyperparameters. The type of Naive Bayes (e.g., Gaussian, Multinomial, Bernoulli) and any optional smoothing parameters (e.g., Laplace smoothing) are the main considerations.\n",
    "\n",
    "4. **Types of Naive Bayes**:\n",
    "\n",
    "   - **Gaussian Naive Bayes**: Assumes that continuous features follow a Gaussian distribution.\n",
    "   - **Multinomial Naive Bayes**: Suitable for discrete features (e.g., word counts).\n",
    "   - **Bernoulli Naive Bayes**: Appropriate for binary features (e.g., presence or absence of a term).\n",
    "\n",
    "5. **Advantages**:\n",
    "\n",
    "   - Fast and efficient training and prediction.\n",
    "   - Can handle a large number of features.\n",
    "   - Works well with categorical and discrete data.\n",
    "\n",
    "6. **Disadvantages**:\n",
    "\n",
    "   - Relies on the \"naive\" assumption of feature independence, which may not always hold in real-world data.\n",
    "   - Sensitive to the quality of the training data.\n",
    "   - Can struggle with rare or unseen feature combinations.\n",
    "\n",
    "7. **Use Cases**:\n",
    "\n",
    "   - **Text Classification**: Spam filtering, sentiment analysis, topic categorization.\n",
    "   - **Document Classification**: News article categorization, legal document classification.\n",
    "   - **Medical Diagnosis**: Identifying diseases based on symptoms.\n",
    "   - **Recommendation Systems**: Collaborative filtering.\n",
    "\n",
    "8. **Tips for Using Naive Bayes**:\n",
    "\n",
    "   - Handle categorical variables appropriately (e.g., use encoding techniques like one-hot encoding for Bernoulli or Multinomial NB).\n",
    "   - For continuous data, consider discretization or use Gaussian NB.\n",
    "   - Be cautious with the \"zero probability\" problem; consider smoothing techniques.\n",
    "\n",
    "9. **Possible Improvements**:\n",
    "\n",
    "   - Using more sophisticated feature selection techniques.\n",
    "   - Addressing the assumption of feature independence by exploring more advanced models like Bayesian networks.\n",
    "\n",
    "10. **Extensions**:\n",
    "\n",
    "    - **Multivariate Bernoulli Model**: A variation of Bernoulli NB that models the joint distribution of binary data.\n",
    "    - **Averaged One-Dependence Estimators (AODE)**: An extension of NB that relaxes the feature independence assumption.\n",
    "\n",
    "11. **When to Choose Naive Bayes**:\n",
    "\n",
    "   - **Text and Categorical Data**: Particularly well-suited for text classification tasks.\n",
    "   - **Quick Prototyping**: Provides a simple and fast baseline model.\n",
    "   - **Interpretability**: Offers straightforward interpretability of class probabilities.\n",
    "   - **High-Dimensional Data**: Can handle a large number of features.\n",
    "\n",
    "12. **When NOT to Choose Naive Bayes**:\n",
    "\n",
    "   - **Strong Feature Dependencies**: If feature independence assumption is grossly violated.\n",
    "   - **Continuous and Complex Data**: Gaussian NB might not perform well on highly skewed or non-Gaussian distributed data.\n",
    "   - **Situations Requiring High Precision**: Naive Bayes may not be the best choice for tasks where precision is of utmost importance. More complex models may be needed."
   ]
  },
  {
   "cell_type": "code",
   "execution_count": 41,
   "id": "889d7696",
   "metadata": {},
   "outputs": [],
   "source": [
    "# Step 1: Import Necessary Libraries\n",
    "import numpy as np\n",
    "import pandas as pd\n",
    "from sklearn.feature_extraction.text import CountVectorizer\n",
    "from sklearn.model_selection import train_test_split\n",
    "from sklearn.naive_bayes import MultinomialNB\n",
    "from sklearn.metrics import accuracy_score, classification_report\n",
    "import joblib\n",
    "\n",
    "# Step 2: Loading and Preparing the Dataset\n",
    "data = pd.read_csv('D:\\ML-STUFF\\datasets\\spam-ham dataset\\spam_ham_dataset.csv')  # Assuming you have a CSV file with 'text' and 'label' columns.\n",
    "X = data['text']\n",
    "y = data['label']\n"
   ]
  },
  {
   "cell_type": "code",
   "execution_count": 44,
   "id": "67790162",
   "metadata": {},
   "outputs": [
    {
     "data": {
      "text/plain": [
       "'ham'"
      ]
     },
     "execution_count": 44,
     "metadata": {},
     "output_type": "execute_result"
    }
   ],
   "source": [
    "y[0]"
   ]
  },
  {
   "cell_type": "code",
   "execution_count": 29,
   "id": "caf803bc",
   "metadata": {},
   "outputs": [
    {
     "name": "stdout",
     "output_type": "stream",
     "text": [
      "Subject: enron methanol ; meter # : 988291\r\n",
      "this is a follow up to the note i gave you on monday , 4 / 3 / 00 { preliminary\r\n",
      "flow data provided by daren } .\r\n",
      "please override pop ' s daily volume { presently zero } to reflect daily\r\n",
      "activity you can obtain from gas control .\r\n",
      "this change is needed asap for economics purposes .\n"
     ]
    }
   ],
   "source": [
    "print(X[0])"
   ]
  },
  {
   "cell_type": "code",
   "execution_count": 30,
   "id": "e4dc9a2a",
   "metadata": {},
   "outputs": [],
   "source": [
    "# Step 3: Text Vectorization\n",
    "vectorizer = CountVectorizer()\n",
    "X = vectorizer.fit_transform(X)"
   ]
  },
  {
   "cell_type": "markdown",
   "id": "8e75a8ee",
   "metadata": {},
   "source": [
    "### CountVectorizer:\n",
    "\n",
    "The `CountVectorizer` is part of the `scikit-learn` library and is specifically designed for text processing tasks. It performs the following steps:\n",
    "\n",
    "1. **Tokenization**:\n",
    "   - It breaks down the text into individual words or terms. For example, the sentence \"Hello, how are you?\" is tokenized into [\"Hello\", \"how\", \"are\", \"you\"].\n",
    "\n",
    "2. **Building a Vocabulary**:\n",
    "   - It creates a unique index for each term (word) in the corpus (collection of documents). Each unique term becomes a feature.\n",
    "\n",
    "3. **Counting Frequencies**:\n",
    "   - For each document, it counts the frequency of each term in the vocabulary. This information is stored in a matrix where each row represents a document, and each column represents a term.\n",
    "\n",
    "4. **Creating the Document-Term Matrix**:\n",
    "   - This is the final output of the `CountVectorizer`. It's a matrix where rows correspond to documents and columns correspond to terms. The value in each cell represents the frequency of the term in that document.\n",
    "\n",
    "   Example:\n",
    "\n",
    "   ```\n",
    "   +---+-------+-------+-----+-----+-----+\n",
    "   |   | Hello | how   | are | you | ... |\n",
    "   +---+-------+-------+-----+-----+-----+\n",
    "   | 1 |  1    |  1    |  0  |  1  | ... |\n",
    "   +---+-------+-------+-----+-----+-----+\n",
    "   | 2 |  0    |  0    |  1  |  0  | ... |\n",
    "   +---+-------+-------+-----+-----+-----+\n",
    "   | 3 |  0    |  1    |  0  |  0  | ... |\n",
    "   +---+-------+-------+-----+-----+-----+\n",
    "   ```\n",
    "\n",
    "   In this example, the first row represents the word counts for the first document, the second row for the second document, and so on.\n",
    "\n",
    "### Parameters of CountVectorizer:\n",
    "\n",
    "- **`max_features`**:\n",
    "  - Specifies the maximum number of features (terms) to keep based on term frequency. It keeps the most frequent terms.\n",
    "  \n",
    "- **`stop_words`**:\n",
    "  - Provides a list of common words (like 'the', 'is', 'and') that are considered as \"stop words\" and are ignored during tokenization.\n",
    "\n",
    "- **`ngram_range`**:\n",
    "  - Allows you to include not only single words (unigrams) but also sequences of words (bigrams, trigrams, etc.). For example, `ngram_range=(1,2)` includes both unigrams and bigrams.\n",
    "\n",
    "- **`binary`**:\n",
    "  - If set to `True`, it only considers whether a term is present or not (binary feature), rather than its frequency.\n",
    "\n",
    "- **`lowercase`**:\n",
    "  - Converts all text to lowercase, ensuring that 'Hello' and 'hello' are treated as the same word.\n",
    "\n",
    "- **`analyzer`**:\n",
    "  - Specifies the type of feature to extract (e.g., 'word', 'char', 'char_wb' for word, character, and character n-grams respectively).\n"
   ]
  },
  {
   "cell_type": "code",
   "execution_count": 31,
   "id": "9b501264",
   "metadata": {},
   "outputs": [
    {
     "name": "stdout",
     "output_type": "stream",
     "text": [
      "  (0, 43562)\t1\n",
      "  (0, 18719)\t1\n",
      "  (0, 31036)\t1\n",
      "  (0, 31029)\t1\n",
      "  (0, 4629)\t1\n",
      "  (0, 44989)\t2\n",
      "  (0, 26371)\t2\n",
      "  (0, 20850)\t1\n",
      "  (0, 46831)\t1\n",
      "  (0, 45370)\t2\n",
      "  (0, 44867)\t1\n",
      "  (0, 33215)\t1\n",
      "  (0, 21765)\t1\n",
      "  (0, 49945)\t2\n",
      "  (0, 33928)\t1\n",
      "  (0, 31723)\t1\n",
      "  (0, 0)\t1\n",
      "  (0, 36688)\t1\n",
      "  (0, 20739)\t1\n",
      "  (0, 15288)\t1\n",
      "  (0, 37231)\t1\n",
      "  (0, 10766)\t1\n",
      "  (0, 15231)\t1\n",
      "  (0, 36059)\t1\n",
      "  (0, 34492)\t1\n",
      "  (0, 36319)\t1\n",
      "  (0, 15133)\t2\n",
      "  (0, 47878)\t1\n",
      "  (0, 36753)\t1\n",
      "  (0, 50176)\t1\n",
      "  (0, 38656)\t1\n",
      "  (0, 5144)\t1\n",
      "  (0, 11042)\t1\n",
      "  (0, 33556)\t1\n",
      "  (0, 21287)\t1\n",
      "  (0, 21710)\t1\n",
      "  (0, 13942)\t1\n",
      "  (0, 11911)\t1\n",
      "  (0, 32621)\t1\n",
      "  (0, 7247)\t1\n",
      "  (0, 20911)\t1\n",
      "  (0, 17898)\t1\n",
      "  (0, 37475)\t1\n"
     ]
    }
   ],
   "source": [
    "print(X[0])"
   ]
  },
  {
   "cell_type": "code",
   "execution_count": 32,
   "id": "43568ef7",
   "metadata": {},
   "outputs": [],
   "source": [
    "\n",
    "# Step 4: Splitting the Data for Training and Testing\n",
    "X_train, X_test, y_train, y_test = train_test_split(X, y, test_size=0.2, random_state=42)\n",
    "\n",
    "# Step 5: Initializing and Training the NB Classifier\n",
    "nb_classifier = MultinomialNB()\n",
    "nb_classifier.fit(X_train, y_train)\n",
    "\n",
    "# Step 6: Making Predictions\n",
    "y_pred = nb_classifier.predict(X_test)\n"
   ]
  },
  {
   "cell_type": "code",
   "execution_count": 38,
   "id": "32904238",
   "metadata": {},
   "outputs": [
    {
     "data": {
      "image/png": "[encoded data removed]",
      "text/plain": [
       "<Figure size 800x600 with 2 Axes>"
      ]
     },
     "metadata": {},
     "output_type": "display_data"
    }
   ],
   "source": [
    "import matplotlib.pyplot as plt\n",
    "from sklearn.metrics import confusion_matrix\n",
    "import seaborn as sns\n",
    "\n",
    "# Assuming y_test and y_pred are available from your previous code\n",
    "conf_matrix = confusion_matrix(y_test, y_pred)\n",
    "\n",
    "plt.figure(figsize=(8, 6))\n",
    "sns.heatmap(conf_matrix, annot=True, fmt='d', cmap='Blues', \n",
    "            xticklabels=['Not Spam', 'Spam'], yticklabels=['Not Spam', 'Spam'])\n",
    "plt.xlabel('Predicted')\n",
    "plt.ylabel('Actual')\n",
    "plt.title('Confusion Matrix')\n",
    "plt.show()\n"
   ]
  },
  {
   "cell_type": "code",
   "execution_count": 33,
   "id": "f4c8611c",
   "metadata": {},
   "outputs": [
    {
     "name": "stdout",
     "output_type": "stream",
     "text": [
      "Accuracy: 0.98\n",
      "Classification Report:\n",
      "              precision    recall  f1-score   support\n",
      "\n",
      "         ham       0.99      0.99      0.99       742\n",
      "        spam       0.96      0.96      0.96       293\n",
      "\n",
      "    accuracy                           0.98      1035\n",
      "   macro avg       0.97      0.97      0.97      1035\n",
      "weighted avg       0.98      0.98      0.98      1035\n",
      "\n"
     ]
    }
   ],
   "source": [
    "\n",
    "# Step 7: Evaluating Model Performance\n",
    "accuracy = accuracy_score(y_test, y_pred)\n",
    "report = classification_report(y_test, y_pred)\n",
    "\n",
    "# Step 8: Displaying Results\n",
    "print(f'Accuracy: {accuracy:.2f}')\n",
    "print(f'Classification Report:\\n{report}')\n"
   ]
  },
  {
   "cell_type": "code",
   "execution_count": 34,
   "id": "4822b711",
   "metadata": {},
   "outputs": [],
   "source": [
    "# Step 9: Save the Model and Vectorizer\n",
    "joblib.dump(nb_classifier, 'naive_bayes_model.pkl')\n",
    "joblib.dump(vectorizer, 'count_vectorizer.pkl')\n",
    "\n",
    "# Load the Model and Vectorizer\n",
    "nb_classifier = joblib.load('naive_bayes_model.pkl')\n",
    "vectorizer = joblib.load('count_vectorizer.pkl')\n"
   ]
  },
  {
   "cell_type": "code",
   "execution_count": 35,
   "id": "75285184",
   "metadata": {},
   "outputs": [],
   "source": [
    "# Use the Model on a Message\n",
    "def classify_message(message):\n",
    "    message_vectorized = vectorizer.transform([message])\n",
    "    prediction = nb_classifier.predict(message_vectorized)\n",
    "    return prediction[0]\n",
    "\n"
   ]
  },
  {
   "cell_type": "code",
   "execution_count": 36,
   "id": "421dad72",
   "metadata": {},
   "outputs": [
    {
     "name": "stdout",
     "output_type": "stream",
     "text": [
      "This message is classified as spam.\n"
     ]
    }
   ],
   "source": [
    "#Example Usage\n",
    "new_message = \"Congratulations! You've won a free gift card!\"\n",
    "result = classify_message(new_message)\n",
    "\n",
    "if result == 'spam':\n",
    "    print(\"This message is classified as spam.\")\n",
    "else:\n",
    "    print(\"This message is not spam.\")"
   ]
  },
  {
   "cell_type": "code",
   "execution_count": null,
   "id": "7596ed2d",
   "metadata": {},
   "outputs": [],
   "source": []
  }
 ],
 "metadata": {
  "kernelspec": {
   "display_name": "Python 3 (ipykernel)",
   "language": "python",
   "name": "python3"
  },
  "language_info": {
   "codemirror_mode": {
    "name": "ipython",
    "version": 3
   },
   "file_extension": ".py",
   "mimetype": "text/x-python",
   "name": "python",
   "nbconvert_exporter": "python",
   "pygments_lexer": "ipython3",
   "version": "3.10.9"
  }
 },
 "nbformat": 4,
 "nbformat_minor": 5
}
