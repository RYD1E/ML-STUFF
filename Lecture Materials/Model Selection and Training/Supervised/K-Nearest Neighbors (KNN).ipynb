{
 "cells": [
  {
   "cell_type": "markdown",
   "id": "dee2b6cc",
   "metadata": {},
   "source": [
    "# K-Nearest Neighbors (KNN) Tutorial with Iris Dataset\n",
    "\n",
    "This tutorial introduces the K-Nearest Neighbors (KNN) algorithm and demonstrates its application using the Iris dataset. The Iris dataset, a widely used benchmark in machine learning, comprises measurements of four features from three different species of iris flowers. The tutorial covers essential steps including importing necessary libraries, loading and preparing the dataset, initializing and training the KNN classifier, making predictions, and evaluating the model's performance through accuracy calculation and a classification report. Additionally, guidance is provided on how to select an appropriate 'k' value for optimal model performance. This tutorial aims to provide a comprehensive introduction to KNN and serve as a foundation for further exploration in machine learning.\n"
   ]
  },
  {
   "cell_type": "markdown",
   "id": "f6b2e356",
   "metadata": {},
   "source": [
    "\n",
    "\n",
    "### 1. **Basic Idea**:\n",
    "\n",
    "   - KNN is a **lazy learner** algorithm. This means it doesn't learn a discriminative function from the training data but instead memorizes the entire dataset.\n",
    "   - The core idea is to find the 'K' training samples that are closest to the point you want to predict, and then make predictions based on their labels (for classification) or their values (for regression).\n",
    "\n",
    "### 2. **How it Works**:\n",
    "\n",
    "   - **Step 1**: Choose the number of neighbors, 'K'.\n",
    "   - **Step 2**: Compute the distance between the point you want to classify and all other points in the dataset. Common distance metrics include Euclidean, Manhattan, Minkowski, etc.\n",
    "   - **Step 3**: Sort the distances in ascending order and select the top 'K' samples.\n",
    "   - **Step 4**: For classification, assign the class that occurs most frequently among the 'K' nearest neighbors. For regression, compute the average (or weighted average) of the 'K' nearest neighbor values.\n",
    "\n",
    "### 3. **Parameters**:\n",
    "\n",
    "   - **K**: The number of neighbors to consider. This is a crucial parameter and should be chosen carefully. A small 'K' can make the model sensitive to noise, while a large 'K' might smooth out important patterns.\n",
    "\n",
    "### 4. **Distance Metrics**:\n",
    "\n",
    "   - Euclidean distance is the most commonly used, but other metrics like Manhattan, Minkowski, Hamming, etc., can also be used depending on the nature of the data.\n",
    "\n",
    "### 5. **Advantages**:\n",
    "\n",
    "   - Easy to understand and implement.\n",
    "   - Non-parametric (doesn't assume any underlying data distribution).\n",
    "   - Can handle multiclass cases.\n",
    "\n",
    "### 6. **Disadvantages**:\n",
    "\n",
    "   - Computationally expensive during prediction, especially with large datasets.\n",
    "   - Sensitive to the choice of distance metric and the value of 'K'.\n",
    "   - Doesn't work well with high-dimensional data (curse of dimensionality).\n",
    "\n",
    "### 7. **Use Cases**:\n",
    "\n",
    "   - KNN is used in various domains including **recommendation systems, image recognition, and anomaly detection**. It's also used in areas like **bioinformatics, finance, and healthcare**.\n",
    "\n",
    "### 8. **Tips for Using KNN**:\n",
    "\n",
    "   - Standardizing the data (mean = 0, variance = 1) can improve KNN's performance.\n",
    "   - Choosing the right 'K' through techniques like cross-validation is crucial.\n",
    "   - It's often a good idea to explore different distance metrics to see which one works best for your data.\n",
    "\n",
    "### 9. **Possible Improvements**:\n",
    "\n",
    "   - Using more sophisticated distance weighting schemes.\n",
    "   - Implementing faster search algorithms to find nearest neighbors in large datasets.\n",
    "   - Applying dimensionality reduction techniques before using KNN.\n",
    "\n",
    "### 10. **Extensions**:\n",
    "\n",
    "   - There are variants like **weighted KNN, radius-based KNN (RKNN), and kernelized KNN** that adapt the basic algorithm to different situations.\n",
    "\n",
    "\n",
    "### 11. **When to Choose K-Nearest Neighbors**:\n",
    "\n",
    "   - **Small to Medium Sized Datasets**: KNN can perform well on datasets with a relatively small number of samples. For very large datasets, the computational cost of finding nearest neighbors can become prohibitive.\n",
    "\n",
    "   - **Non-Linear Data**: KNN can capture complex, non-linear relationships between features. If the decision boundary is irregular or doesn't follow a clear mathematical pattern, KNN can be a good choice.\n",
    "\n",
    "   - **Noisy Data**: KNN can be robust to noisy training data because it doesn't assume any underlying data distribution. It makes predictions based on the actual data points, not on a learned model.\n",
    "\n",
    "   - **Interpretability**: If interpretability and explainability of the model are crucial, KNN is a good choice. It's easy to understand and doesn't involve complex mathematical operations.\n",
    "\n",
    "   - **Quick Prototyping and Baseline Model**: KNN is a good algorithm for quickly prototyping a solution or establishing a baseline performance. It can serve as a simple benchmark against which more complex models can be compared.\n",
    "\n",
    "   - **Ensemble Methods**: KNN can also be used as a component in ensemble methods like **bagging** or **stacking**, where it can provide diversity to the ensemble.\n",
    "\n",
    "### 12. **When NOT to Choose K-Nearest Neighbors**:\n",
    "\n",
    "   - **High-Dimensional Data**: KNN doesn't perform well in high-dimensional spaces. As the number of features increases, the \"nearest\" points tend to be farther away, making the algorithm less effective.\n",
    "\n",
    "   - **Imbalanced Datasets**: KNN can be biased towards the majority class in imbalanced datasets. Techniques like resampling or using a different algorithm might be more appropriate.\n",
    "\n",
    "   - **Computational Efficiency**: If computational efficiency is a major concern (especially during prediction), KNN might not be the best choice, as it can be slow for large datasets.\n",
    "\n",
    "   - **Feature Engineering**: If feature engineering is a critical part of your modeling process, more complex models may be better suited. KNN doesn't inherently learn feature relationships.\n",
    "\n",
    "   - **Sensitive to Distance Metric**: If choosing an appropriate distance metric is a challenge (e.g., in text or categorical data), other models that handle such data types better might be more suitable.\n",
    "\n",
    "\n"
   ]
  },
  {
   "cell_type": "code",
   "execution_count": 1,
   "id": "4e6c4d07",
   "metadata": {},
   "outputs": [],
   "source": [
    "import numpy as np\n",
    "from sklearn.datasets import load_iris\n",
    "from sklearn.model_selection import train_test_split\n",
    "from sklearn.neighbors import KNeighborsClassifier\n",
    "from sklearn.metrics import accuracy_score, classification_report\n"
   ]
  },
  {
   "cell_type": "code",
   "execution_count": 2,
   "id": "d5643096",
   "metadata": {},
   "outputs": [],
   "source": [
    "# Load Iris dataset\n",
    "iris = load_iris()\n",
    "X = iris.data\n",
    "y = iris.target\n",
    "\n",
    "# Split the dataset into training and testing sets\n",
    "X_train, X_test, y_train, y_test = train_test_split(X, y, test_size=0.2, random_state=42)\n"
   ]
  },
  {
   "cell_type": "code",
   "execution_count": 3,
   "id": "7367dd51",
   "metadata": {},
   "outputs": [
    {
     "data": {
      "text/html": [
       "<style>#sk-container-id-1 {color: black;background-color: white;}#sk-container-id-1 pre{padding: 0;}#sk-container-id-1 div.sk-toggleable {background-color: white;}#sk-container-id-1 label.sk-toggleable__label {cursor: pointer;display: block;width: 100%;margin-bottom: 0;padding: 0.3em;box-sizing: border-box;text-align: center;}#sk-container-id-1 label.sk-toggleable__label-arrow:before {content: \"▸\";float: left;margin-right: 0.25em;color: #696969;}#sk-container-id-1 label.sk-toggleable__label-arrow:hover:before {color: black;}#sk-container-id-1 div.sk-estimator:hover label.sk-toggleable__label-arrow:before {color: black;}#sk-container-id-1 div.sk-toggleable__content {max-height: 0;max-width: 0;overflow: hidden;text-align: left;background-color: #f0f8ff;}#sk-container-id-1 div.sk-toggleable__content pre {margin: 0.2em;color: black;border-radius: 0.25em;background-color: #f0f8ff;}#sk-container-id-1 input.sk-toggleable__control:checked~div.sk-toggleable__content {max-height: 200px;max-width: 100%;overflow: auto;}#sk-container-id-1 input.sk-toggleable__control:checked~label.sk-toggleable__label-arrow:before {content: \"▾\";}#sk-container-id-1 div.sk-estimator input.sk-toggleable__control:checked~label.sk-toggleable__label {background-color: #d4ebff;}#sk-container-id-1 div.sk-label input.sk-toggleable__control:checked~label.sk-toggleable__label {background-color: #d4ebff;}#sk-container-id-1 input.sk-hidden--visually {border: 0;clip: rect(1px 1px 1px 1px);clip: rect(1px, 1px, 1px, 1px);height: 1px;margin: -1px;overflow: hidden;padding: 0;position: absolute;width: 1px;}#sk-container-id-1 div.sk-estimator {font-family: monospace;background-color: #f0f8ff;border: 1px dotted black;border-radius: 0.25em;box-sizing: border-box;margin-bottom: 0.5em;}#sk-container-id-1 div.sk-estimator:hover {background-color: #d4ebff;}#sk-container-id-1 div.sk-parallel-item::after {content: \"\";width: 100%;border-bottom: 1px solid gray;flex-grow: 1;}#sk-container-id-1 div.sk-label:hover label.sk-toggleable__label {background-color: #d4ebff;}#sk-container-id-1 div.sk-serial::before {content: \"\";position: absolute;border-left: 1px solid gray;box-sizing: border-box;top: 0;bottom: 0;left: 50%;z-index: 0;}#sk-container-id-1 div.sk-serial {display: flex;flex-direction: column;align-items: center;background-color: white;padding-right: 0.2em;padding-left: 0.2em;position: relative;}#sk-container-id-1 div.sk-item {position: relative;z-index: 1;}#sk-container-id-1 div.sk-parallel {display: flex;align-items: stretch;justify-content: center;background-color: white;position: relative;}#sk-container-id-1 div.sk-item::before, #sk-container-id-1 div.sk-parallel-item::before {content: \"\";position: absolute;border-left: 1px solid gray;box-sizing: border-box;top: 0;bottom: 0;left: 50%;z-index: -1;}#sk-container-id-1 div.sk-parallel-item {display: flex;flex-direction: column;z-index: 1;position: relative;background-color: white;}#sk-container-id-1 div.sk-parallel-item:first-child::after {align-self: flex-end;width: 50%;}#sk-container-id-1 div.sk-parallel-item:last-child::after {align-self: flex-start;width: 50%;}#sk-container-id-1 div.sk-parallel-item:only-child::after {width: 0;}#sk-container-id-1 div.sk-dashed-wrapped {border: 1px dashed gray;margin: 0 0.4em 0.5em 0.4em;box-sizing: border-box;padding-bottom: 0.4em;background-color: white;}#sk-container-id-1 div.sk-label label {font-family: monospace;font-weight: bold;display: inline-block;line-height: 1.2em;}#sk-container-id-1 div.sk-label-container {text-align: center;}#sk-container-id-1 div.sk-container {/* jupyter's `normalize.less` sets `[hidden] { display: none; }` but bootstrap.min.css set `[hidden] { display: none !important; }` so we also need the `!important` here to be able to override the default hidden behavior on the sphinx rendered scikit-learn.org. See: https://github.com/scikit-learn/scikit-learn/issues/21755 */display: inline-block !important;position: relative;}#sk-container-id-1 div.sk-text-repr-fallback {display: none;}</style><div id=\"sk-container-id-1\" class=\"sk-top-container\"><div class=\"sk-text-repr-fallback\"><pre>KNeighborsClassifier(n_neighbors=3)</pre><b>In a Jupyter environment, please rerun this cell to show the HTML representation or trust the notebook. <br />On GitHub, the HTML representation is unable to render, please try loading this page with nbviewer.org.</b></div><div class=\"sk-container\" hidden><div class=\"sk-item\"><div class=\"sk-estimator sk-toggleable\"><input class=\"sk-toggleable__control sk-hidden--visually\" id=\"sk-estimator-id-1\" type=\"checkbox\" checked><label for=\"sk-estimator-id-1\" class=\"sk-toggleable__label sk-toggleable__label-arrow\">KNeighborsClassifier</label><div class=\"sk-toggleable__content\"><pre>KNeighborsClassifier(n_neighbors=3)</pre></div></div></div></div></div>"
      ],
      "text/plain": [
       "KNeighborsClassifier(n_neighbors=3)"
      ]
     },
     "execution_count": 3,
     "metadata": {},
     "output_type": "execute_result"
    }
   ],
   "source": [
    "# Initialize the KNN Classifier with k=3 (you can change k as per your preference)\n",
    "knn = KNeighborsClassifier(n_neighbors=3)\n",
    "knn.fit(X_train, y_train)\n"
   ]
  },
  {
   "cell_type": "code",
   "execution_count": 4,
   "id": "d415b7e5",
   "metadata": {},
   "outputs": [],
   "source": [
    "# Predict on the test set\n",
    "y_pred = knn.predict(X_test)\n"
   ]
  },
  {
   "cell_type": "code",
   "execution_count": 5,
   "id": "fe37fca8",
   "metadata": {},
   "outputs": [
    {
     "name": "stdout",
     "output_type": "stream",
     "text": [
      "Accuracy: 100.00%\n",
      "Classification Report:\n",
      "              precision    recall  f1-score   support\n",
      "\n",
      "      setosa       1.00      1.00      1.00        10\n",
      "  versicolor       1.00      1.00      1.00         9\n",
      "   virginica       1.00      1.00      1.00        11\n",
      "\n",
      "    accuracy                           1.00        30\n",
      "   macro avg       1.00      1.00      1.00        30\n",
      "weighted avg       1.00      1.00      1.00        30\n",
      "\n"
     ]
    }
   ],
   "source": [
    "# Calculate accuracy\n",
    "accuracy = accuracy_score(y_test, y_pred)\n",
    "print(f'Accuracy: {accuracy*100:.2f}%')\n",
    "\n",
    "# Generate a classification report\n",
    "report = classification_report(y_test, y_pred, target_names=iris.target_names)\n",
    "print(f'Classification Report:\\n{report}')\n"
   ]
  },
  {
   "cell_type": "code",
   "execution_count": 7,
   "id": "a8d84195",
   "metadata": {},
   "outputs": [
    {
     "data": {
      "image/png": "[encoded data removed]",
      "text/plain": [
       "<Figure size 640x480 with 1 Axes>"
      ]
     },
     "metadata": {},
     "output_type": "display_data"
    }
   ],
   "source": [
    "from sklearn.metrics import mean_squared_error\n",
    "from sklearn.neighbors import KNeighborsRegressor\n",
    "error = []\n",
    "\n",
    "for i in range(1, 20):\n",
    "    knn = KNeighborsRegressor(n_neighbors=i)\n",
    "    knn.fit(X_train, y_train)\n",
    "    y_pred = knn.predict(X_test)\n",
    "    error.append(mean_squared_error(y_test, y_pred))\n",
    "\n",
    "import matplotlib.pyplot as plt\n",
    "\n",
    "plt.plot(range(1, 20), error, marker='o')\n",
    "plt.xlabel('K')\n",
    "plt.ylabel('Mean Squared Error')\n",
    "plt.show()\n"
   ]
  },
  {
   "cell_type": "code",
   "execution_count": null,
   "id": "d22c7f61",
   "metadata": {},
   "outputs": [],
   "source": []
  }
 ],
 "metadata": {
  "kernelspec": {
   "display_name": "Python 3 (ipykernel)",
   "language": "python",
   "name": "python3"
  },
  "language_info": {
   "codemirror_mode": {
    "name": "ipython",
    "version": 3
   },
   "file_extension": ".py",
   "mimetype": "text/x-python",
   "name": "python",
   "nbconvert_exporter": "python",
   "pygments_lexer": "ipython3",
   "version": "3.10.9"
  }
 },
 "nbformat": 4,
 "nbformat_minor": 5
}
