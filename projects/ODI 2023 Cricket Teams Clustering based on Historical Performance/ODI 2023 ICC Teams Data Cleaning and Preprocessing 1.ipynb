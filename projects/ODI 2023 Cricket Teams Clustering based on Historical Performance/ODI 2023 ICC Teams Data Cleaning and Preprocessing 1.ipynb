{
 "cells": [
  {
   "cell_type": "markdown",
   "id": "786d9d6a",
   "metadata": {},
   "source": [
    "# Data Cleaning and Preprocessing 1\n",
    "\n",
    "The first data cleaning script aims to prepare the raw data for further analysis. In this tutorial, we'll cover some common data preprocessing techniques using both Python's built-in dictionaries and the Pandas library. Data preprocessing is a crucial step in the data analysis and machine learning process. It involves cleaning, transforming, and organizing data to make it suitable for analysis.\n",
    "\n",
    "<img src=\"https://s.yimg.com/ny/api/res/1.2/CnYKko4HHp.BhQPe2G_dEQ--/YXBwaWQ9aGlnaGxhbmRlcjt3PTk2MDtoPTY0MDtjZj13ZWJw/https://media.zenfs.com/en/the_independent_635/769602519fa97ace462f965de78b1d5d\" alt=\"Image\" width=\"500\" height=\"300\">"
   ]
  },
  {
   "cell_type": "markdown",
   "id": "444c5ef8",
   "metadata": {},
   "source": [
    "## Working with Files and Directories using the `os` Module\n",
    "\n",
    "The `os` module in Python provides a way of using operating system dependent functionality like reading or writing to the file system. It allows you to interact with the file system in a platform-independent way.\n",
    "\n",
    "### Importing the `os` Module\n",
    "\n",
    "Before we can use the `os` module, we need to import it. This is done using the following statement:\n",
    "\n",
    "```python\n",
    "import os\n"
   ]
  },
  {
   "cell_type": "markdown",
   "id": "36907f93",
   "metadata": {},
   "source": [
    "\n",
    "### Checking if a File Exists\n",
    "\n",
    "To check if a file exists at a given path, you can use the `os.path.exists()` function.\n",
    "\n",
    "```python\n",
    "file_path = \"/path/to/your/file.txt\"\n",
    "if os.path.exists(file_path):\n",
    "    print(f\"The file {file_path} exists.\")\n",
    "else:\n",
    "    print(f\"The file {file_path} does not exist.\")\n"
   ]
  },
  {
   "cell_type": "markdown",
   "id": "f4be3acd",
   "metadata": {},
   "source": [
    "\n",
    "###  Getting File Information\n",
    "\n",
    "You can retrieve various information about a file, such as its size, creation time, and modification time using functions like `os.path.getsize()`, `os.path.getctime()`, and `os.path.getmtime()`.\n",
    "\n",
    "```python\n",
    "file_path = \"/path/to/your/file.txt\"\n",
    "size = os.path.getsize(file_path)\n",
    "ctime = os.path.getctime(file_path)\n",
    "mtime = os.path.getmtime(file_path)\n",
    "\n",
    "print(f\"Size of the file: {size} bytes\")\n",
    "print(f\"Creation time: {ctime}\")\n",
    "print(f\"Last modification time: {mtime}\")\n"
   ]
  },
  {
   "cell_type": "markdown",
   "id": "2b0d1d64",
   "metadata": {},
   "source": [
    "### Creating a Directory\n",
    "\n",
    "You can create a new directory using the `os.mkdir()` function.\n",
    "\n",
    "```python\n",
    "\n",
    "dir_path = \"/path/to/your/new_directory\"\n",
    "os.mkdir(dir_path)\n"
   ]
  },
  {
   "cell_type": "markdown",
   "id": "dbfc57a4",
   "metadata": {},
   "source": [
    "### Listing Files in a Directory\n",
    "\n",
    "To get a list of all the files and directories in a directory, you can use `os.listdir()`.\n",
    "\n",
    "```python\n",
    "dir_path = \"/path/to/your/directory\"\n",
    "contents = os.listdir(dir_path)\n",
    "print(f\"Contents of {dir_path}: {contents}\")\n"
   ]
  },
  {
   "cell_type": "markdown",
   "id": "84f63611",
   "metadata": {},
   "source": [
    "### Joining Paths\n",
    "\n",
    "You can join two or more path components using `os.path.join()`.\n",
    "\n",
    "```python\n",
    "path1 = \"/path/to/your\"\n",
    "path2 = \"directory\"\n",
    "full_path = os.path.join(path1, path2)\n",
    "print(f\"Full path: {full_path}\")\n"
   ]
  },
  {
   "cell_type": "markdown",
   "id": "23b26c5e",
   "metadata": {},
   "source": [
    "# Lets start!"
   ]
  },
  {
   "cell_type": "code",
   "execution_count": 2,
   "id": "3edf7d97",
   "metadata": {},
   "outputs": [],
   "source": [
    "#imports \n",
    "import os\n",
    "import pandas as pd\n",
    "import json\n",
    "import numpy as np"
   ]
  },
  {
   "cell_type": "code",
   "execution_count": 3,
   "id": "7d72cf60",
   "metadata": {},
   "outputs": [],
   "source": [
    "# Define the path to the folder containing JSON files\n",
    "folder_path = r\"D:\\data\\json\"  # Replace with the actual path to folder\n",
    "\n",
    "# Initialize an empty list to store file names\n",
    "files = []\n",
    "\n",
    "# Iterate through files in the specified folder\n",
    "for file_name in os.listdir(folder_path):\n",
    "    # Check if the file starts with \"team_\" and ends with \".json\"\n",
    "    if file_name.startswith(\"team_\") and file_name.endswith(\".json\"):\n",
    "        files.append(file_name)  # Add the file name to the list\n"
   ]
  },
  {
   "cell_type": "code",
   "execution_count": 4,
   "id": "107d867f",
   "metadata": {},
   "outputs": [
    {
     "data": {
      "text/plain": [
       "'D:\\\\data\\\\json\\\\team_Afghanistan_102115.json'"
      ]
     },
     "execution_count": 4,
     "metadata": {},
     "output_type": "execute_result"
    }
   ],
   "source": [
    "file=(os.path.join(folder_path,files[10]))\n",
    "file"
   ]
  },
  {
   "cell_type": "code",
   "execution_count": 5,
   "id": "6f6fab40",
   "metadata": {},
   "outputs": [],
   "source": [
    "with open(file, 'r') as json_file:\n",
    "    data = json.load(json_file)"
   ]
  },
  {
   "cell_type": "code",
   "execution_count": 7,
   "id": "76d6740f",
   "metadata": {},
   "outputs": [
    {
     "data": {
      "text/plain": [
       "{'date': '06/04/2023 04:30:00 AM',\n",
       " 'home': 'Sri Lanka',\n",
       " 'place': 'Mahinda Rajapaksa International Cricket Stadium',\n",
       " 'result': 'Sri Lanka won by 132 runs'}"
      ]
     },
     "execution_count": 7,
     "metadata": {},
     "output_type": "execute_result"
    }
   ],
   "source": [
    "match ={\n",
    "\"date\":data['date'],\n",
    "\"home\":data['home'],\n",
    "\"place\":data['place'],\n",
    "\"result\":data['result']}\n",
    "match"
   ]
  },
  {
   "cell_type": "markdown",
   "id": "eca002db",
   "metadata": {},
   "source": [
    "### We will be evaluating batting by:\n",
    "\n",
    "#### Batting Average (BA):\n",
    "\n",
    "Formula: Total Runs / Total Wickets\n",
    "\n",
    "Description: This metric gives you an average score per wicket. It is a good indicator of how well a player is performing in terms of consistency.\n",
    "\n",
    "Example:\n",
    "\n",
    "Batting Average = 103 runs / 1 wicket = 103\n",
    "\n",
    "\n",
    "#### Strike Rate (SR):\n",
    "\n",
    "Formula: (Total Runs / Total Balls Faced) * 100\n",
    "\n",
    "Description: This metric reflects how quickly a player scores runs. A higher strike rate indicates more aggressive and faster scoring.\n",
    "\n",
    "Example:\n",
    "\n",
    "Strike Rate = (103 runs / 127 balls) * 100 ≈ 81.10\n",
    "\n",
    "\n",
    "#### Boundary Percentage (BP):\n",
    "\n",
    "Formula: ((Total Fours + Total Sixes) / Total Runs) * 100\n",
    "\n",
    "Description: This metric measures the percentage of runs scored through boundaries (fours and sixes). It indicates the player's ability to find the gaps and hit boundaries.\n",
    "\n",
    "Example:\n",
    "\n",
    "Boundary Percentage = ((6 + 3) / 103) * 100 ≈ 8.74%\n",
    "\n"
   ]
  },
  {
   "cell_type": "code",
   "execution_count": 8,
   "id": "68b95522",
   "metadata": {},
   "outputs": [],
   "source": [
    "def battingvars(data):\n",
    "    # Initialize an empty list to store calculated Batting Bonus Points (BBP)\n",
    "    BBP = []\n",
    "    \n",
    "    # Loop through each batting record in the data\n",
    "    for i in data['batting']:\n",
    "        # Check if 'Runs' is a valid value (not '-')\n",
    "        if i['Runs'] == '-':\n",
    "            continue # Skip this record if 'Runs' is not valid\n",
    "        if int(i['Runs']) > 0:\n",
    "            # Calculate BBP and append to the list\n",
    "            BBP.append(((4 * int(i['Fours']) + 6 * int(i['Sixes'])) / int(i['Runs'])) * 100)\n",
    "        else:\n",
    "            BBP.append(0) # If 'Runs' is 0, set BBP to 0\n",
    "    \n",
    "    # Initialize an empty list to store Strike Rates (sr)\n",
    "    sr = []\n",
    "    \n",
    "    # Loop through each batting record in the data\n",
    "    for i in data['batting']:\n",
    "        # Check if 'Strike Rate' is a valid value (not '-')\n",
    "        if i['Strike Rate'] == '-':\n",
    "            continue # Skip this record if 'Strike Rate' is not valid\n",
    "        else:\n",
    "            # Convert 'Strike Rate' to float and append to the list\n",
    "            sr.append(float(i['Strike Rate']))\n",
    "    \n",
    "    # Calculate bata (ratio of runs scored to wickets lost)\n",
    "    bata = float(data['score'].split(\"/\")[0]) / float(data['score'].split(\"/\")[1])\n",
    "    \n",
    "    # Return a list containing bata, mean of sr, and mean of BBP\n",
    "    return [bata, np.mean(sr), np.mean(BBP)]\n"
   ]
  },
  {
   "cell_type": "code",
   "execution_count": 9,
   "id": "fe18bdb7",
   "metadata": {},
   "outputs": [
    {
     "data": {
      "text/plain": [
       "[53.833333333333336, 118.71375, 46.23984864780165]"
      ]
     },
     "execution_count": 9,
     "metadata": {},
     "output_type": "execute_result"
    }
   ],
   "source": [
    "battingvars(data[\"Team1\"])"
   ]
  },
  {
   "cell_type": "markdown",
   "id": "4b46cd0a",
   "metadata": {},
   "source": [
    "### For Balling we will use:\n",
    "\n",
    "#### Bowling Average (BA):\n",
    "\n",
    "Formula: Total Runs Conceded / Total Wickets Taken\n",
    "    \n",
    "Description: This metric gives you an average number of runs conceded per wicket taken. A lower bowling average indicates a more effective bowler.\n",
    "Example:\n",
    "\n",
    "Bowling Average = 32 runs / 4 wickets = 8.00\n",
    "\n",
    "\n",
    "#### Economy Rate (ER):\n",
    "\n",
    "Formula: Total Runs Conceded / Total Overs Bowled\n",
    "    \n",
    "Description: This metric reflects how many runs a bowler concedes on average in an over. A lower economy rate is generally better.\n",
    "Example:\n",
    "\n",
    "Economy Rate = 32 runs / 9.4 overs ≈ 3.40\n",
    "\n",
    "\n",
    "#### Strike Rate (SR):\n",
    "\n",
    "Formula: Total Balls Bowled / Total Wickets Taken\n",
    "    \n",
    "Description: This metric indicates how many balls a bowler takes on average to take a wicket. A lower strike rate is usually better.\n",
    "Example:\n",
    "\n",
    "Strike Rate = 56 balls / 4 wickets = 14.00\n",
    "\n",
    "\n",
    "#### Dot Ball Percentage (DBP):\n",
    "\n",
    "Formula: (Total Dots Bowled / Total Balls Bowled) * 100\n",
    "    \n",
    "Description: This metric measures the percentage of deliveries that didn't result in any runs. It reflects the bowler's ability to build pressure on the batsmen.\n",
    "Example:\n",
    "\n",
    "Dot Ball Percentage = (39 dots / 56 balls) * 100 ≈ 69.64%"
   ]
  },
  {
   "cell_type": "code",
   "execution_count": 19,
   "id": "8af7eae3",
   "metadata": {},
   "outputs": [
    {
     "name": "stdout",
     "output_type": "stream",
     "text": [
      "8.4 overs is equal to 52 balls.\n"
     ]
    }
   ],
   "source": [
    "def overs_to_balls(overs):\n",
    "    overs = float(overs)\n",
    "    balls = int(overs) * 6 + int(round((overs % 1) * 10,2))\n",
    "    return balls\n",
    "\n",
    "overs = '8.4'\n",
    "balls = overs_to_balls(overs)\n",
    "\n",
    "print(f'{overs} overs is equal to {balls} balls.')"
   ]
  },
  {
   "cell_type": "code",
   "execution_count": 11,
   "id": "e7c1c2fe",
   "metadata": {},
   "outputs": [],
   "source": [
    "def ballingvars(data):\n",
    "    # Initialize an empty list to store calculated Dot Ball Percentage (DBP)\n",
    "    DBP = []\n",
    "    \n",
    "    # Loop through each bowling record in the data\n",
    "    for i in data['balling']:\n",
    "        # Check if 'Overs' is a valid value (not '-')\n",
    "        if i['Overs'] == '-':\n",
    "            continue  # Skip this record if 'Overs' is not valid\n",
    "        else:\n",
    "            balls = overs_to_balls(i['Overs'])  # Convert overs to balls\n",
    "            # Calculate DBP and append to the list\n",
    "            DBP.append((int(i['Dots']) / balls) * 100)\n",
    "    \n",
    "    # Initialize an empty list to store Bowling Strike Rates (ballsr)\n",
    "    ballsr = []\n",
    "    \n",
    "    # Loop through each bowling record in the data\n",
    "    for i in data['balling']:\n",
    "        # Check if 'Overs' is a valid value (not '-')\n",
    "        if i['Overs'] == '-':\n",
    "            continue  # Skip this record if 'Overs' is not valid\n",
    "        else:\n",
    "            balls = overs_to_balls(i['Overs'])  # Convert overs to balls\n",
    "            try:\n",
    "                # Calculate Bowling Strike Rate and append to the list\n",
    "                ballsr.append(float(balls / int(i['Wickets'])))\n",
    "            except:\n",
    "                continue\n",
    "    \n",
    "    # Initialize an empty list to store Economy Rates (eco)\n",
    "    eco = []\n",
    "    \n",
    "    # Loop through each bowling record in the data\n",
    "    for i in data['balling']:\n",
    "        # Check if 'Economy' is a valid value (not '-')\n",
    "        if i['Economy'] == '-':\n",
    "            continue  # Skip this record if 'Economy' is not valid\n",
    "        else:\n",
    "            # Convert 'Economy' to float and append to the list\n",
    "            eco.append(float(i['Economy']))\n",
    "    \n",
    "    # Initialize an empty list to store Bowling Average (balla)\n",
    "    balla = []\n",
    "    \n",
    "    # Loop through each bowling record in the data\n",
    "    for i in data['balling']:\n",
    "        # Check if 'Wickets' is a valid value (not '-')\n",
    "        if i['Wickets'] == '-':\n",
    "            continue  # Skip this record if 'Wickets' is not valid\n",
    "        else:\n",
    "            try:\n",
    "                # Calculate Bowling Average and append to the list\n",
    "                balla.append(int(i['Runs']) / int(i['Wickets']))\n",
    "            except:\n",
    "                pass\n",
    "    \n",
    "    # Return a list containing mean of balla, mean of eco, mean of ballsr, and mean of DBP\n",
    "    return [np.mean(balla), np.mean(eco), np.mean(ballsr), np.mean(DBP)]\n"
   ]
  },
  {
   "cell_type": "code",
   "execution_count": 12,
   "id": "bd3158f1",
   "metadata": {},
   "outputs": [
    {
     "name": "stderr",
     "output_type": "stream",
     "text": [
      "C:\\Users\\SHUBHAM\\anaconda3\\lib\\site-packages\\numpy\\core\\fromnumeric.py:3432: RuntimeWarning: Mean of empty slice.\n",
      "  return _methods._mean(a, axis=axis, dtype=dtype,\n",
      "C:\\Users\\SHUBHAM\\anaconda3\\lib\\site-packages\\numpy\\core\\_methods.py:190: RuntimeWarning: invalid value encountered in double_scalars\n",
      "  ret = ret.dtype.type(ret / rcount)\n"
     ]
    }
   ],
   "source": [
    "\n",
    "#<-------------------------------------Lets write them together and transform data ------------------------------------>\n",
    "\n",
    "\n",
    "def battingvars(data):\n",
    "    if data['batting'] == 'None':\n",
    "        return ['','','']\n",
    "    else:\n",
    "        BBP=[]\n",
    "        for i in data['batting']:\n",
    "            if i['Runs'] == '-':\n",
    "                continue\n",
    "            if int(i['Runs'])>0:\n",
    "                BBP.append(((4*int(i['Fours'])+6*int(i['Sixes']))/int(i['Runs']))*100)\n",
    "            else:\n",
    "                BBP.append(0)\n",
    "        sr=[]\n",
    "        for i in data['batting']:\n",
    "            if i['Strike Rate'] == '-':\n",
    "                continue\n",
    "            else:\n",
    "                sr.append(float(i['Strike Rate']))\n",
    "        try:\n",
    "            bata=float(data['score'].split(\"/\")[0])/float(data['score'].split(\"/\")[1])\n",
    "        except IndexError:\n",
    "            bata=float(data['score'].split(\"/\")[0])/10\n",
    "        except ZeroDivisionError:\n",
    "            bata=0\n",
    "        return [bata, np.mean(sr), np.mean(BBP)]\n",
    "\n",
    "def overs_to_balls(overs):\n",
    "    overs = float(overs)\n",
    "    balls = int(overs) * 6 + int((overs % 1) * 10)\n",
    "    return balls\n",
    "\n",
    "\n",
    "def ballingvars(data):\n",
    "    if data['balling'] == []:\n",
    "        return ['','','','']\n",
    "    else:\n",
    "        DBP=[]\n",
    "        for i in data['balling']:\n",
    "            if i['Overs'] == '-':\n",
    "                continue\n",
    "            else:\n",
    "                balls = overs_to_balls(i['Overs'])\n",
    "                DBP.append((int(i['Dots'])/balls)*100)\n",
    "        ballsr=[]\n",
    "        for i in data['balling']:\n",
    "            if i['Overs'] == '-':\n",
    "                continue\n",
    "            else:\n",
    "                balls = overs_to_balls(i['Overs'])\n",
    "                try:\n",
    "                    ballsr.append(float(balls/int(i['Wickets'])))\n",
    "                except:\n",
    "                    continue\n",
    "        eco=[]\n",
    "        for i in data['balling']:\n",
    "            if i['Economy'] == '-':\n",
    "                continue\n",
    "            else:\n",
    "                eco.append(float(i['Economy']))\n",
    "        balla=[]\n",
    "        for i in data['balling']:\n",
    "            if i['Wickets'] == '-':\n",
    "                continue\n",
    "            else:\n",
    "                try:\n",
    "                    balla.append(int(i['Runs'])/int(i['Wickets']))\n",
    "                except:\n",
    "                    pass\n",
    "        return [np.mean(balla),np.mean(eco),np.mean(ballsr),np.mean(DBP)]\n",
    "\n",
    "def maketeamdata(data):\n",
    "    # Create a dictionary 'match1' with relevant fields from 'data'\n",
    "    match1 = {\n",
    "        \"team_name\": data['Name'],\n",
    "        \"score\": data['score'],\n",
    "        \"overs\": data['overs'],\n",
    "        \"rr\": data['rr'],\n",
    "        'extras': data['Extras']\n",
    "    }\n",
    "\n",
    "    # Calculate batting statistics using 'battingvars' function and update 'match1'\n",
    "    bat = battingvars(data)\n",
    "    match1[\"bata\"] = bat[0]  # Batting Average\n",
    "    match1[\"batsr\"] = bat[1]  # Batting Strike Rate\n",
    "    match1[\"bbp\"] = bat[2]  # Batting Bonus Points\n",
    "\n",
    "    # Calculate bowling statistics using 'ballingvars' function and update 'match1'\n",
    "    ball = ballingvars(data)\n",
    "    match1[\"balla\"] = ball[0]  # Bowling Average\n",
    "    match1[\"eco\"] = ball[1]  # Economy Rate\n",
    "    match1[\"ballsr\"] = ball[2]  # Bowling Strike Rate\n",
    "    match1[\"dbp\"] = ball[3]  # Dot Ball Percentage\n",
    "\n",
    "    return match1  # Return the updated 'match1' dictionary\n",
    "\n",
    "\n",
    "\n",
    "\n",
    "#<-----------------------------------------Trigger code -------------------------------------------->\n",
    "\n",
    "\n",
    "folder_path = r\"D:\\data\\json\"  # Replace with the actual path to files\n",
    "files=[]\n",
    "for file_name in os.listdir(folder_path):\n",
    "    if file_name.startswith(\"team_\") and file_name.endswith(\".json\"):\n",
    "        files.append(file_name)\n",
    "\n",
    "# Initialize an empty list to store match data\n",
    "lis = []\n",
    "\n",
    "# Loop through each file in 'files'\n",
    "for fileadd in files:\n",
    "    # Get the full file path\n",
    "    file = os.path.join(folder_path, fileadd)\n",
    "\n",
    "    # Open and read the JSON file\n",
    "    with open(file, 'r') as json_file:\n",
    "        data = json.load(json_file)\n",
    "\n",
    "    # Check if the match result is not one of the specified cases\n",
    "    if data['result'].lower() not in ['match abandoned', 'match abandoned without a ball bowled', 'no result', 'match cancelled without a ball bowled', 'match postponed without a ball bowled']:\n",
    "        # Create a dictionary 'match' with relevant fields from 'data'\n",
    "        match = {\n",
    "            \"date\": data['date'],\n",
    "            \"home\": data['home'],\n",
    "            \"place\": data['place'],\n",
    "            \"result\": data['result'],\n",
    "            'match_id': data['match_id']\n",
    "        }\n",
    "\n",
    "        # Iterate through both teams (Team1 and Team2)\n",
    "        for team in ['Team1', 'Team2']:\n",
    "            # Update 'match' with team-specific data using 'maketeamdata' function\n",
    "            match.update(maketeamdata(data[team]))\n",
    "\n",
    "            # Append the updated 'match' to the list 'lis'\n",
    "            lis.append(match)\n",
    "\n",
    "            # Reset 'match' for the next team\n",
    "            match = {\n",
    "                \"date\": data['date'],\n",
    "                \"home\": data['home'],\n",
    "                \"place\": data['place'],\n",
    "                \"result\": data['result'],\n",
    "                'match_id': data['match_id']\n",
    "            }\n"
   ]
  },
  {
   "cell_type": "code",
   "execution_count": 13,
   "id": "4cee389e",
   "metadata": {},
   "outputs": [],
   "source": [
    "df=pd.DataFrame(lis) #make a df."
   ]
  },
  {
   "cell_type": "code",
   "execution_count": 15,
   "id": "dae325e6",
   "metadata": {},
   "outputs": [],
   "source": [
    "df.to_csv(r\"D:\\data\\odi2023.csv\")# save to pc."
   ]
  },
  {
   "cell_type": "code",
   "execution_count": null,
   "id": "0870b984",
   "metadata": {},
   "outputs": [],
   "source": []
  }
 ],
 "metadata": {
  "kernelspec": {
   "display_name": "Python 3 (ipykernel)",
   "language": "python",
   "name": "python3"
  },
  "language_info": {
   "codemirror_mode": {
    "name": "ipython",
    "version": 3
   },
   "file_extension": ".py",
   "mimetype": "text/x-python",
   "name": "python",
   "nbconvert_exporter": "python",
   "pygments_lexer": "ipython3",
   "version": "3.10.9"
  }
 },
 "nbformat": 4,
 "nbformat_minor": 5
}
